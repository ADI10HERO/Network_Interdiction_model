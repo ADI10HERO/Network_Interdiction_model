{
 "cells": [
  {
   "cell_type": "code",
   "execution_count": 1,
   "metadata": {},
   "outputs": [],
   "source": [
    "import pandas as pd\n",
    "import numpy as np\n",
    "import copy\n",
    "from IPython.display import Image\n",
    "import time"
   ]
  },
  {
   "cell_type": "code",
   "execution_count": 2,
   "metadata": {},
   "outputs": [
    {
     "data": {
      "image/png": "[encoded data removed]",
      "text/plain": [
       "<IPython.core.display.Image object>"
      ]
     },
     "execution_count": 2,
     "metadata": {},
     "output_type": "execute_result"
    }
   ],
   "source": [
    "Image('./map.png')"
   ]
  },
  {
   "cell_type": "code",
   "execution_count": 3,
   "metadata": {},
   "outputs": [
    {
     "data": {
      "text/html": [
       "<div>\n",
       "<style scoped>\n",
       "    .dataframe tbody tr th:only-of-type {\n",
       "        vertical-align: middle;\n",
       "    }\n",
       "\n",
       "    .dataframe tbody tr th {\n",
       "        vertical-align: top;\n",
       "    }\n",
       "\n",
       "    .dataframe thead th {\n",
       "        text-align: right;\n",
       "    }\n",
       "</style>\n",
       "<table border=\"1\" class=\"dataframe\">\n",
       "  <thead>\n",
       "    <tr style=\"text-align: right;\">\n",
       "      <th></th>\n",
       "      <th>0</th>\n",
       "      <th>1</th>\n",
       "      <th>2</th>\n",
       "      <th>3</th>\n",
       "      <th>4</th>\n",
       "    </tr>\n",
       "  </thead>\n",
       "  <tbody>\n",
       "    <tr>\n",
       "      <th>0</th>\n",
       "      <td>-1</td>\n",
       "      <td>10</td>\n",
       "      <td>3</td>\n",
       "      <td>-1</td>\n",
       "      <td>-1</td>\n",
       "    </tr>\n",
       "    <tr>\n",
       "      <th>1</th>\n",
       "      <td>-1</td>\n",
       "      <td>-1</td>\n",
       "      <td>1</td>\n",
       "      <td>2</td>\n",
       "      <td>-1</td>\n",
       "    </tr>\n",
       "    <tr>\n",
       "      <th>2</th>\n",
       "      <td>-1</td>\n",
       "      <td>4</td>\n",
       "      <td>-1</td>\n",
       "      <td>8</td>\n",
       "      <td>2</td>\n",
       "    </tr>\n",
       "    <tr>\n",
       "      <th>3</th>\n",
       "      <td>-1</td>\n",
       "      <td>-1</td>\n",
       "      <td>-1</td>\n",
       "      <td>-1</td>\n",
       "      <td>7</td>\n",
       "    </tr>\n",
       "    <tr>\n",
       "      <th>4</th>\n",
       "      <td>-1</td>\n",
       "      <td>-1</td>\n",
       "      <td>-1</td>\n",
       "      <td>9</td>\n",
       "      <td>-1</td>\n",
       "    </tr>\n",
       "  </tbody>\n",
       "</table>\n",
       "</div>"
      ],
      "text/plain": [
       "   0   1  2  3  4\n",
       "0 -1  10  3 -1 -1\n",
       "1 -1  -1  1  2 -1\n",
       "2 -1   4 -1  8  2\n",
       "3 -1  -1 -1 -1  7\n",
       "4 -1  -1 -1  9 -1"
      ]
     },
     "execution_count": 3,
     "metadata": {},
     "output_type": "execute_result"
    }
   ],
   "source": [
    "pd.read_csv('mapData.csv',header=None)"
   ]
  },
  {
   "cell_type": "code",
   "execution_count": 4,
   "metadata": {},
   "outputs": [],
   "source": [
    "st_time = time.time()\n",
    "data = np.array(pd.read_csv('mapData.csv',header=None))"
   ]
  },
  {
   "cell_type": "code",
   "execution_count": 5,
   "metadata": {},
   "outputs": [],
   "source": [
    "graph_prime = {}\n",
    "for i , row_d in enumerate(data):\n",
    "    graph_prime[chr(97+i)] = {'name':chr(97+i),'pre':'','dis':float('inf')}\n",
    "    temp = {}\n",
    "    for j , ed in enumerate(row_d):\n",
    "        if ed != -1:\n",
    "            temp[chr(97+j)] = ed\n",
    "    graph_prime[chr(97+i)]['con'] = temp\n",
    "queue =[]\n",
    "for name in graph_prime:\n",
    "    queue.append(name)\n",
    "source = 'a'\n",
    "sink = 'd'\n",
    "graph_prime[source]['dis'] = 0"
   ]
  },
  {
   "cell_type": "code",
   "execution_count": 6,
   "metadata": {},
   "outputs": [],
   "source": [
    "#Finds node which has minimun distance value in the to be processed nodes\n",
    "def extract_min(g,q): \n",
    "    d=[]\n",
    "    for x in g:\n",
    "        d.append((g[x]['dis']))\n",
    "    index_min = min(range(len(d)), key=d.__getitem__)\n",
    "    return(q[index_min])\n",
    "\n",
    "#Does the process of relaxation of arcs\n",
    "def relax(n,graph):\n",
    "    for x in graph[n]['con']:\n",
    "        if( graph[x]['dis'] > graph[n]['dis'] + graph[n]['con'][x] ):\n",
    "            graph[x]['dis'] = graph[n]['dis'] + graph[n]['con'][x]\n",
    "            graph[x]['pre'] = graph[n]['name']\n",
    "    return graph\n",
    "\n",
    "#Main dijkstra function\n",
    "def dijkstra(graph,queue):\n",
    "    \n",
    "    q = queue.copy()\n",
    "    g = copy.deepcopy(graph)\n",
    "    for _ in range(len(graph)): \n",
    "        u = extract_min(g,q)\n",
    "        graph = relax(u,graph)\n",
    "        g.pop(u)\n",
    "        q.remove(u)\n",
    "    return graph"
   ]
  },
  {
   "cell_type": "code",
   "execution_count": 7,
   "metadata": {},
   "outputs": [],
   "source": [
    "#Sorted Edge data\n",
    "a_list = []\n",
    "for nod in graph_prime:\n",
    "    for con in graph_prime[nod]['con']:\n",
    "        temp =[]\n",
    "        temp.extend([nod+con,graph_prime[nod]['con'][con],0])\n",
    "        a_list.append(temp)\n",
    "\n",
    "a_list = sorted(a_list,key=lambda k:k[1])\n",
    "edge_data = {}\n",
    "for it , nod in enumerate(a_list):\n",
    "    nod[2] = it\n",
    "    edge_data[nod[0]] = nod[1:]\n",
    "number_edge = len(edge_data)\n",
    "initialize_zero = []\n",
    "for _ in range(number_edge+1):\n",
    "    initialize_zero.append(0)"
   ]
  },
  {
   "cell_type": "code",
   "execution_count": 8,
   "metadata": {},
   "outputs": [],
   "source": [
    "#Helper function \n",
    "def get_edge_name(ip):\n",
    "    for g , h in enumerate(edge_data):\n",
    "        if g == ip:\n",
    "            break\n",
    "    return h"
   ]
  },
  {
   "cell_type": "code",
   "execution_count": 9,
   "metadata": {},
   "outputs": [],
   "source": [
    "#Simultaneously Solving paths\n",
    "def break_it(path):\n",
    "    for row in range(len(path)):\n",
    "        #index position ip\n",
    "        for edge in range(len(path[0])-1):\n",
    "            if path[row][edge] == 1:\n",
    "                path[row][len(path[0])-1] = edge\n",
    "                for row_vertical in range(len(path)):\n",
    "                    if path[row_vertical][edge] == 1 and path[row_vertical][len(path[0])-1] < edge:\n",
    "                        path[row_vertical][len(path[0])-1] = edge\n",
    "                break\n",
    "    return None"
   ]
  },
  {
   "cell_type": "code",
   "execution_count": 10,
   "metadata": {},
   "outputs": [],
   "source": [
    "def bender(graph_prime):\n",
    "    dijkstra(graph_prime,queue)\n",
    "    gb = copy.deepcopy(graph_prime)\n",
    "    temp_inter = []\n",
    "    path = []\n",
    "    it = 0\n",
    "    while(1):\n",
    "       \n",
    "        gd = copy.deepcopy(dijkstra(gb,queue))\n",
    "        \n",
    "        if gd[sink]['dis'] == float('inf'):\n",
    "            print(\"Network interdicted successfully !!!\")\n",
    "            print(\"Risky arcs: \",set(temp_inter))\n",
    "            break\n",
    "        print(\"\\nIteration number: \",it+1,'\\n\\n')\n",
    "        ### Printing Current Shortest path\n",
    "        print(source+' =>',gd[sink]['name'],'Min distance =',gd[sink]['dis'])\n",
    "        y = sink\n",
    "        while(gd[y]['pre'] != ''):\n",
    "            print(gd[y]['name'],end=\" <= \")\n",
    "            y = gd[y]['pre']\n",
    "        print('a\\n')\n",
    "        ###\n",
    "        #Refreshing fixed arcs in path\n",
    "        for fixed in range(len(path)):\n",
    "            path[fixed][len(path[0])-1] = 0\n",
    "        ###\n",
    "        #Refresh edge / remove temporary interdiction    \n",
    "        for som in temp_inter:\n",
    "            gb[som[0]]['con'][som[1]] = graph_prime[som[0]]['con'][som[1]]\n",
    "        path.append(initialize_zero.copy())\n",
    "        \n",
    "        ##List refreshes here\n",
    "        temp_inter = []\n",
    "        \n",
    "        #Filling path matrix\n",
    "        x = sink\n",
    "        while(gd[x]['pre'] != ''):\n",
    "            path[it][edge_data[gd[x]['pre'] + x][1]] = 1\n",
    "            x = gd[x]['pre']\n",
    "        \n",
    "        break_it(path)\n",
    "        for _ in range(len(path)):\n",
    "            name = get_edge_name(path[_][len(path[0])-1])\n",
    "            temp_inter.append(name)\n",
    "            gb[name[0]]['con'][name[1]] = float('inf')\n",
    "        \n",
    "        #refreshing distance in gb\n",
    "        for dis in gb:\n",
    "            gb[dis]['dis'] = float('inf')\n",
    "        gb[source]['dis'] = 0\n",
    "        print('>>>>>',set(temp_inter))\n",
    "        it += 1\n",
    "    return path"
   ]
  },
  {
   "cell_type": "code",
   "execution_count": 11,
   "metadata": {},
   "outputs": [
    {
     "name": "stdout",
     "output_type": "stream",
     "text": [
      "\n",
      "Iteration number:  1 \n",
      "\n",
      "\n",
      "a => d Min distance = 9\n",
      "d <= b <= c <= a\n",
      "\n",
      ">>>>> {'bd'}\n",
      "\n",
      "Iteration number:  2 \n",
      "\n",
      "\n",
      "a => d Min distance = 11\n",
      "d <= c <= a\n",
      "\n",
      ">>>>> {'ac'}\n",
      "\n",
      "Iteration number:  3 \n",
      "\n",
      "\n",
      "a => d Min distance = 12\n",
      "d <= b <= a\n",
      "\n",
      ">>>>> {'ac', 'bd'}\n",
      "\n",
      "Iteration number:  4 \n",
      "\n",
      "\n",
      "a => d Min distance = 19\n",
      "d <= c <= b <= a\n",
      "\n",
      ">>>>> {'ac', 'bd', 'bc'}\n",
      "Network interdicted successfully !!!\n",
      "Risky arcs:  {'ac', 'bd', 'bc'}\n"
     ]
    }
   ],
   "source": [
    "path = bender(graph_prime)"
   ]
  },
  {
   "cell_type": "code",
   "execution_count": 12,
   "metadata": {},
   "outputs": [
    {
     "name": "stdout",
     "output_type": "stream",
     "text": [
      "Run time:  0.9266910552978516 s\n"
     ]
    }
   ],
   "source": [
    "print(\"Run time: \",time.time()-st_time,'s')"
   ]
  },
  {
   "cell_type": "code",
   "execution_count": null,
   "metadata": {},
   "outputs": [],
   "source": []
  }
 ],
 "metadata": {
  "kernelspec": {
   "display_name": "Python 3",
   "language": "python",
   "name": "python3"
  },
  "language_info": {
   "codemirror_mode": {
    "name": "ipython",
    "version": 3
   },
   "file_extension": ".py",
   "mimetype": "text/x-python",
   "name": "python",
   "nbconvert_exporter": "python",
   "pygments_lexer": "ipython3",
   "version": "3.6.7"
  }
 },
 "nbformat": 4,
 "nbformat_minor": 2
}
